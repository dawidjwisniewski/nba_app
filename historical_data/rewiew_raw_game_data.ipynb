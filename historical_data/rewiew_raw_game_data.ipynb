{
 "cells": [
  {
   "cell_type": "code",
   "execution_count": 72,
   "id": "61ef7e81",
   "metadata": {},
   "outputs": [],
   "source": [
    "import pandas as pd\n",
    "import matplotlib.pyplot as plt\n",
    "import seaborn as sns\n",
    "import psycopg2\n",
    "import json\n",
    "import configparser"
   ]
  },
  {
   "cell_type": "code",
   "execution_count": 9,
   "id": "e862647c",
   "metadata": {},
   "outputs": [],
   "source": [
    "with open('game_data_structure.json', 'r') as f:\n",
    "    game_data_structure = json.load(f)\n",
    "    \n",
    "db_config = configparser.ConfigParser()\n",
    "db_config.read('../pg_database.conf')\n",
    "connection = psycopg2.connect(host = db_config[\"DEFAULT\"][\"db_host\"], \n",
    "                              port = db_config[\"DEFAULT\"][\"db_port\"], \n",
    "                              database = db_config[\"DEFAULT\"][\"db_database\"], \n",
    "                              user = db_config[\"DEFAULT\"][\"db_user\"], \n",
    "                              password = db_config[\"DEFAULT\"][\"db_password\"]\n",
    "                              )"
   ]
  },
  {
   "cell_type": "code",
   "execution_count": 14,
   "id": "6dc26e76",
   "metadata": {},
   "outputs": [],
   "source": [
    "raw_historical_games = pd.read_sql(\"SELECT * FROM raw_historical_games\", connection)"
   ]
  },
  {
   "cell_type": "code",
   "execution_count": 21,
   "id": "b22cd82a",
   "metadata": {},
   "outputs": [
    {
     "name": "stdout",
     "output_type": "stream",
     "text": [
      "<class 'pandas.core.frame.DataFrame'>\n",
      "RangeIndex: 30605 entries, 0 to 30604\n",
      "Columns: 144 entries, gameid to updated_date\n",
      "dtypes: bool(1), float64(27), int64(45), object(71)\n",
      "memory usage: 33.4+ MB\n"
     ]
    }
   ],
   "source": [
    "raw_historical_games.info()"
   ]
  },
  {
   "cell_type": "code",
   "execution_count": 24,
   "id": "848da4c5",
   "metadata": {},
   "outputs": [
    {
     "data": {
      "text/plain": [
       "gameid                                                   object\n",
       "gamecode                                                 object\n",
       "gamestatus                                                int64\n",
       "gamestatustext                                           object\n",
       "period                                                    int64\n",
       "                                                         ...   \n",
       "broadcasters_awaytvbroadcasters_1_broadcastdisplay       object\n",
       "broadcasters_nationalbroadcasters_1_broadcasterid       float64\n",
       "broadcasters_nationalbroadcasters_1_broadcastdisplay     object\n",
       "created_date                                             object\n",
       "updated_date                                             object\n",
       "Length: 144, dtype: object"
      ]
     },
     "execution_count": 24,
     "metadata": {},
     "output_type": "execute_result"
    }
   ],
   "source": [
    "raw_historical_games.dtypes"
   ]
  },
  {
   "cell_type": "code",
   "execution_count": 27,
   "id": "83ed08e4",
   "metadata": {
    "scrolled": true
   },
   "outputs": [
    {
     "name": "stdout",
     "output_type": "stream",
     "text": [
      "Index(['gameid', 'gamecode', 'gamestatus', 'gamestatustext', 'period',\n",
      "       'gameclock', 'gametimeutc', 'gameet', 'regulationperiods',\n",
      "       'seriesgamenumber',\n",
      "       ...\n",
      "       'recap_entitlements', 'recap_videoduration', 'recap_excerpt',\n",
      "       'recap_featuredimage',\n",
      "       'broadcasters_awaytvbroadcasters_1_broadcasterid',\n",
      "       'broadcasters_awaytvbroadcasters_1_broadcastdisplay',\n",
      "       'broadcasters_nationalbroadcasters_1_broadcasterid',\n",
      "       'broadcasters_nationalbroadcasters_1_broadcastdisplay', 'created_date',\n",
      "       'updated_date'],\n",
      "      dtype='object', length=144)\n"
     ]
    }
   ],
   "source": [
    "raw_historical_games.columns"
   ]
  },
  {
   "cell_type": "code",
   "execution_count": 38,
   "id": "b0215032",
   "metadata": {},
   "outputs": [
    {
     "data": {
      "text/plain": [
       "(30605, 144)"
      ]
     },
     "execution_count": 38,
     "metadata": {},
     "output_type": "execute_result"
    }
   ],
   "source": [
    "raw_historical_games.shape"
   ]
  },
  {
   "cell_type": "code",
   "execution_count": 45,
   "id": "8c3ddbee",
   "metadata": {},
   "outputs": [
    {
     "data": {
      "text/plain": [
       "gameid                                                     0\n",
       "gamecode                                                   0\n",
       "gamestatus                                                 0\n",
       "gamestatustext                                             0\n",
       "period                                                     0\n",
       "                                                        ... \n",
       "broadcasters_awaytvbroadcasters_1_broadcastdisplay      4973\n",
       "broadcasters_nationalbroadcasters_1_broadcasterid       9114\n",
       "broadcasters_nationalbroadcasters_1_broadcastdisplay    9114\n",
       "created_date                                               0\n",
       "updated_date                                               0\n",
       "Length: 144, dtype: int64"
      ]
     },
     "execution_count": 45,
     "metadata": {},
     "output_type": "execute_result"
    }
   ],
   "source": [
    "raw_historical_games.isna().sum(axis=0)"
   ]
  },
  {
   "cell_type": "code",
   "execution_count": 46,
   "id": "353640fa",
   "metadata": {
    "scrolled": true
   },
   "outputs": [
    {
     "data": {
      "text/plain": [
       "gameid                                                  True\n",
       "gamecode                                                True\n",
       "gamestatus                                              True\n",
       "gamestatustext                                          True\n",
       "period                                                  True\n",
       "                                                        ... \n",
       "broadcasters_awaytvbroadcasters_1_broadcastdisplay      True\n",
       "broadcasters_nationalbroadcasters_1_broadcasterid       True\n",
       "broadcasters_nationalbroadcasters_1_broadcastdisplay    True\n",
       "created_date                                            True\n",
       "updated_date                                            True\n",
       "Length: 144, dtype: bool"
      ]
     },
     "execution_count": 46,
     "metadata": {},
     "output_type": "execute_result"
    }
   ],
   "source": [
    "raw_historical_games.isna().sum(axis=0)<(raw_historical_games.shape[0]*0.5)"
   ]
  },
  {
   "cell_type": "code",
   "execution_count": 50,
   "id": "14e840dd",
   "metadata": {},
   "outputs": [
    {
     "data": {
      "text/plain": [
       "30605"
      ]
     },
     "execution_count": 50,
     "metadata": {},
     "output_type": "execute_result"
    }
   ],
   "source": [
    "raw_historical_games.shape[0]"
   ]
  },
  {
   "cell_type": "code",
   "execution_count": 49,
   "id": "06e743d6",
   "metadata": {},
   "outputs": [
    {
     "data": {
      "text/plain": [
       "Index(['gameid', 'gamecode', 'gamestatus', 'gamestatustext', 'period',\n",
       "       'gameclock', 'gametimeutc', 'gameet', 'regulationperiods',\n",
       "       'seriesgamenumber',\n",
       "       ...\n",
       "       'recap_entitlements', 'recap_videoduration', 'recap_excerpt',\n",
       "       'recap_featuredimage',\n",
       "       'broadcasters_awaytvbroadcasters_1_broadcasterid',\n",
       "       'broadcasters_awaytvbroadcasters_1_broadcastdisplay',\n",
       "       'broadcasters_nationalbroadcasters_1_broadcasterid',\n",
       "       'broadcasters_nationalbroadcasters_1_broadcastdisplay', 'created_date',\n",
       "       'updated_date'],\n",
       "      dtype='object', length=144)"
      ]
     },
     "execution_count": 49,
     "metadata": {},
     "output_type": "execute_result"
    }
   ],
   "source": [
    "raw_historical_games.columns"
   ]
  },
  {
   "cell_type": "code",
   "execution_count": 54,
   "id": "7b084c36",
   "metadata": {
    "scrolled": true
   },
   "outputs": [
    {
     "data": {
      "text/plain": [
       "Index(['gameid', 'gamecode', 'gamestatus', 'gamestatustext', 'period',\n",
       "       'gameclock', 'gametimeutc', 'gameet', 'regulationperiods',\n",
       "       'seriesgamenumber',\n",
       "       ...\n",
       "       'broadcasters_awayradiobroadcasters_2_broadcasterid',\n",
       "       'broadcasters_awayradiobroadcasters_2_broadcastdisplay',\n",
       "       'hometeam_periods_6_period', 'hometeam_periods_6_periodtype',\n",
       "       'hometeam_periods_6_score', 'awayteam_periods_6_period',\n",
       "       'awayteam_periods_6_periodtype', 'awayteam_periods_6_score',\n",
       "       'created_date', 'updated_date'],\n",
       "      dtype='object', length=131)"
      ]
     },
     "execution_count": 54,
     "metadata": {},
     "output_type": "execute_result"
    }
   ],
   "source": [
    "raw_historical_games.columns[raw_historical_games.isna().sum(axis=0)<(raw_historical_games.shape[0]*0.1)]"
   ]
  },
  {
   "cell_type": "code",
   "execution_count": 70,
   "id": "7935ce05",
   "metadata": {},
   "outputs": [],
   "source": [
    "core_columns = ['gameId',\n",
    "  'gameCode',\n",
    "  'gameLeaders_homeLeaders_personId',\n",
    "  'gameLeaders_homeLeaders_name',\n",
    "  'gameLeaders_homeLeaders_jerseyNum',\n",
    "  'gameLeaders_homeLeaders_position',\n",
    "  'gameLeaders_homeLeaders_teamTricode',\n",
    "  'gameLeaders_homeLeaders_points',\n",
    "  'gameLeaders_homeLeaders_rebounds',\n",
    "  'gameLeaders_homeLeaders_assists',\n",
    "  'gameLeaders_awayLeaders_personId',\n",
    "  'gameLeaders_awayLeaders_name',\n",
    "  'gameLeaders_awayLeaders_jerseyNum',\n",
    "  'gameLeaders_awayLeaders_position',\n",
    "  'gameLeaders_awayLeaders_teamTricode',\n",
    "  'gameLeaders_awayLeaders_points',\n",
    "  'gameLeaders_awayLeaders_rebounds',\n",
    "  'gameLeaders_awayLeaders_assists',\n",
    "  'homeTeam_teamId',\n",
    "  'homeTeam_teamName',\n",
    "  'homeTeam_teamCity',\n",
    "  'homeTeam_teamTricode',\n",
    "  'homeTeam_wins',\n",
    "  'homeTeam_losses',\n",
    "  'homeTeam_score',\n",
    "  'homeTeam_seed',\n",
    "  'homeTeam_timeoutsRemaining',\n",
    "  'awayTeam_teamId',\n",
    "  'awayTeam_teamName',\n",
    "  'awayTeam_teamCity',\n",
    "  'awayTeam_teamTricode',\n",
    "  'awayTeam_wins',\n",
    "  'awayTeam_losses',\n",
    "  'awayTeam_score',\n",
    "  'awayTeam_seed',\n",
    "  'awayTeam_timeoutsRemaining']\n",
    "core_columns = [word.lower() for word in core_columns]"
   ]
  },
  {
   "cell_type": "code",
   "execution_count": 71,
   "id": "d0e2025f",
   "metadata": {},
   "outputs": [
    {
     "data": {
      "text/html": [
       "<div>\n",
       "<style scoped>\n",
       "    .dataframe tbody tr th:only-of-type {\n",
       "        vertical-align: middle;\n",
       "    }\n",
       "\n",
       "    .dataframe tbody tr th {\n",
       "        vertical-align: top;\n",
       "    }\n",
       "\n",
       "    .dataframe thead th {\n",
       "        text-align: right;\n",
       "    }\n",
       "</style>\n",
       "<table border=\"1\" class=\"dataframe\">\n",
       "  <thead>\n",
       "    <tr style=\"text-align: right;\">\n",
       "      <th></th>\n",
       "      <th>gameid</th>\n",
       "      <th>gamecode</th>\n",
       "      <th>gameleaders_homeleaders_personid</th>\n",
       "      <th>gameleaders_homeleaders_name</th>\n",
       "      <th>gameleaders_homeleaders_jerseynum</th>\n",
       "      <th>gameleaders_homeleaders_position</th>\n",
       "      <th>gameleaders_homeleaders_teamtricode</th>\n",
       "      <th>gameleaders_homeleaders_points</th>\n",
       "      <th>gameleaders_homeleaders_rebounds</th>\n",
       "      <th>gameleaders_homeleaders_assists</th>\n",
       "      <th>...</th>\n",
       "      <th>hometeam_timeoutsremaining</th>\n",
       "      <th>awayteam_teamid</th>\n",
       "      <th>awayteam_teamname</th>\n",
       "      <th>awayteam_teamcity</th>\n",
       "      <th>awayteam_teamtricode</th>\n",
       "      <th>awayteam_wins</th>\n",
       "      <th>awayteam_losses</th>\n",
       "      <th>awayteam_score</th>\n",
       "      <th>awayteam_seed</th>\n",
       "      <th>awayteam_timeoutsremaining</th>\n",
       "    </tr>\n",
       "  </thead>\n",
       "  <tbody>\n",
       "    <tr>\n",
       "      <th>0</th>\n",
       "      <td>0020901029</td>\n",
       "      <td>20100320/CHIPHI</td>\n",
       "      <td>201578</td>\n",
       "      <td>Marreese Speights</td>\n",
       "      <td>16</td>\n",
       "      <td>F-C</td>\n",
       "      <td>PHI</td>\n",
       "      <td>17</td>\n",
       "      <td>11</td>\n",
       "      <td>0</td>\n",
       "      <td>...</td>\n",
       "      <td>1</td>\n",
       "      <td>1610612741</td>\n",
       "      <td>Bulls</td>\n",
       "      <td>Chicago</td>\n",
       "      <td>CHI</td>\n",
       "      <td>32</td>\n",
       "      <td>37</td>\n",
       "      <td>98</td>\n",
       "      <td>0.0</td>\n",
       "      <td>1</td>\n",
       "    </tr>\n",
       "    <tr>\n",
       "      <th>1</th>\n",
       "      <td>0020901030</td>\n",
       "      <td>20100320/CHAMIA</td>\n",
       "      <td>2548</td>\n",
       "      <td>Dwyane Wade</td>\n",
       "      <td>3</td>\n",
       "      <td>G</td>\n",
       "      <td>MIA</td>\n",
       "      <td>14</td>\n",
       "      <td>5</td>\n",
       "      <td>9</td>\n",
       "      <td>...</td>\n",
       "      <td>0</td>\n",
       "      <td>1610612766</td>\n",
       "      <td>Bobcats</td>\n",
       "      <td>Charlotte</td>\n",
       "      <td>CHA</td>\n",
       "      <td>35</td>\n",
       "      <td>34</td>\n",
       "      <td>71</td>\n",
       "      <td>0.0</td>\n",
       "      <td>0</td>\n",
       "    </tr>\n",
       "    <tr>\n",
       "      <th>2</th>\n",
       "      <td>0020900474</td>\n",
       "      <td>20100101/NYKATL</td>\n",
       "      <td>201143</td>\n",
       "      <td>Al Horford</td>\n",
       "      <td>15</td>\n",
       "      <td>C</td>\n",
       "      <td>ATL</td>\n",
       "      <td>22</td>\n",
       "      <td>19</td>\n",
       "      <td>4</td>\n",
       "      <td>...</td>\n",
       "      <td>0</td>\n",
       "      <td>1610612752</td>\n",
       "      <td>Knicks</td>\n",
       "      <td>New York</td>\n",
       "      <td>NYK</td>\n",
       "      <td>13</td>\n",
       "      <td>20</td>\n",
       "      <td>112</td>\n",
       "      <td>0.0</td>\n",
       "      <td>1</td>\n",
       "    </tr>\n",
       "    <tr>\n",
       "      <th>3</th>\n",
       "      <td>0020900475</td>\n",
       "      <td>20100101/ORLMIN</td>\n",
       "      <td>201567</td>\n",
       "      <td>Kevin Love</td>\n",
       "      <td>42</td>\n",
       "      <td>F-C</td>\n",
       "      <td>MIN</td>\n",
       "      <td>17</td>\n",
       "      <td>10</td>\n",
       "      <td>1</td>\n",
       "      <td>...</td>\n",
       "      <td>0</td>\n",
       "      <td>1610612753</td>\n",
       "      <td>Magic</td>\n",
       "      <td>Orlando</td>\n",
       "      <td>ORL</td>\n",
       "      <td>24</td>\n",
       "      <td>8</td>\n",
       "      <td>106</td>\n",
       "      <td>0.0</td>\n",
       "      <td>1</td>\n",
       "    </tr>\n",
       "    <tr>\n",
       "      <th>4</th>\n",
       "      <td>0020900476</td>\n",
       "      <td>20100101/SACLAL</td>\n",
       "      <td>977</td>\n",
       "      <td>Kobe Bryant</td>\n",
       "      <td>24</td>\n",
       "      <td>G</td>\n",
       "      <td>LAL</td>\n",
       "      <td>39</td>\n",
       "      <td>5</td>\n",
       "      <td>5</td>\n",
       "      <td>...</td>\n",
       "      <td>0</td>\n",
       "      <td>1610612758</td>\n",
       "      <td>Kings</td>\n",
       "      <td>Sacramento</td>\n",
       "      <td>SAC</td>\n",
       "      <td>14</td>\n",
       "      <td>18</td>\n",
       "      <td>108</td>\n",
       "      <td>0.0</td>\n",
       "      <td>0</td>\n",
       "    </tr>\n",
       "    <tr>\n",
       "      <th>...</th>\n",
       "      <td>...</td>\n",
       "      <td>...</td>\n",
       "      <td>...</td>\n",
       "      <td>...</td>\n",
       "      <td>...</td>\n",
       "      <td>...</td>\n",
       "      <td>...</td>\n",
       "      <td>...</td>\n",
       "      <td>...</td>\n",
       "      <td>...</td>\n",
       "      <td>...</td>\n",
       "      <td>...</td>\n",
       "      <td>...</td>\n",
       "      <td>...</td>\n",
       "      <td>...</td>\n",
       "      <td>...</td>\n",
       "      <td>...</td>\n",
       "      <td>...</td>\n",
       "      <td>...</td>\n",
       "      <td>...</td>\n",
       "      <td>...</td>\n",
       "    </tr>\n",
       "    <tr>\n",
       "      <th>30600</th>\n",
       "      <td>0020900469</td>\n",
       "      <td>20091231/CHIDET</td>\n",
       "      <td>201155</td>\n",
       "      <td>Rodney Stuckey</td>\n",
       "      <td>3</td>\n",
       "      <td>G</td>\n",
       "      <td>DET</td>\n",
       "      <td>22</td>\n",
       "      <td>3</td>\n",
       "      <td>6</td>\n",
       "      <td>...</td>\n",
       "      <td>1</td>\n",
       "      <td>1610612741</td>\n",
       "      <td>Bulls</td>\n",
       "      <td>Chicago</td>\n",
       "      <td>CHI</td>\n",
       "      <td>13</td>\n",
       "      <td>17</td>\n",
       "      <td>98</td>\n",
       "      <td>0.0</td>\n",
       "      <td>1</td>\n",
       "    </tr>\n",
       "    <tr>\n",
       "      <th>30601</th>\n",
       "      <td>0020900470</td>\n",
       "      <td>20091231/DALHOU</td>\n",
       "      <td>201166</td>\n",
       "      <td>Aaron Brooks</td>\n",
       "      <td>0</td>\n",
       "      <td>G</td>\n",
       "      <td>HOU</td>\n",
       "      <td>30</td>\n",
       "      <td>4</td>\n",
       "      <td>4</td>\n",
       "      <td>...</td>\n",
       "      <td>1</td>\n",
       "      <td>1610612742</td>\n",
       "      <td>Mavericks</td>\n",
       "      <td>Dallas</td>\n",
       "      <td>DAL</td>\n",
       "      <td>22</td>\n",
       "      <td>10</td>\n",
       "      <td>94</td>\n",
       "      <td>0.0</td>\n",
       "      <td>0</td>\n",
       "    </tr>\n",
       "    <tr>\n",
       "      <th>30602</th>\n",
       "      <td>0020900471</td>\n",
       "      <td>20091231/MIASAS</td>\n",
       "      <td>1495</td>\n",
       "      <td>Tim Duncan</td>\n",
       "      <td>21</td>\n",
       "      <td>F</td>\n",
       "      <td>SAS</td>\n",
       "      <td>23</td>\n",
       "      <td>10</td>\n",
       "      <td>3</td>\n",
       "      <td>...</td>\n",
       "      <td>1</td>\n",
       "      <td>1610612748</td>\n",
       "      <td>Heat</td>\n",
       "      <td>Miami</td>\n",
       "      <td>MIA</td>\n",
       "      <td>16</td>\n",
       "      <td>14</td>\n",
       "      <td>78</td>\n",
       "      <td>0.0</td>\n",
       "      <td>1</td>\n",
       "    </tr>\n",
       "    <tr>\n",
       "      <th>30603</th>\n",
       "      <td>0020900472</td>\n",
       "      <td>20091231/UTAOKC</td>\n",
       "      <td>201142</td>\n",
       "      <td>Kevin Durant</td>\n",
       "      <td>35</td>\n",
       "      <td>F</td>\n",
       "      <td>OKC</td>\n",
       "      <td>31</td>\n",
       "      <td>9</td>\n",
       "      <td>5</td>\n",
       "      <td>...</td>\n",
       "      <td>0</td>\n",
       "      <td>1610612762</td>\n",
       "      <td>Jazz</td>\n",
       "      <td>Utah</td>\n",
       "      <td>UTA</td>\n",
       "      <td>18</td>\n",
       "      <td>14</td>\n",
       "      <td>86</td>\n",
       "      <td>0.0</td>\n",
       "      <td>0</td>\n",
       "    </tr>\n",
       "    <tr>\n",
       "      <th>30604</th>\n",
       "      <td>0020900473</td>\n",
       "      <td>20091231/PHILAC</td>\n",
       "      <td>2549</td>\n",
       "      <td>Chris Kaman</td>\n",
       "      <td>35</td>\n",
       "      <td>C</td>\n",
       "      <td>LAC</td>\n",
       "      <td>26</td>\n",
       "      <td>10</td>\n",
       "      <td>4</td>\n",
       "      <td>...</td>\n",
       "      <td>1</td>\n",
       "      <td>1610612755</td>\n",
       "      <td>76ers</td>\n",
       "      <td>Philadelphia</td>\n",
       "      <td>PHI</td>\n",
       "      <td>9</td>\n",
       "      <td>23</td>\n",
       "      <td>88</td>\n",
       "      <td>0.0</td>\n",
       "      <td>1</td>\n",
       "    </tr>\n",
       "  </tbody>\n",
       "</table>\n",
       "<p>30605 rows × 36 columns</p>\n",
       "</div>"
      ],
      "text/plain": [
       "           gameid         gamecode  gameleaders_homeleaders_personid  \\\n",
       "0      0020901029  20100320/CHIPHI                            201578   \n",
       "1      0020901030  20100320/CHAMIA                              2548   \n",
       "2      0020900474  20100101/NYKATL                            201143   \n",
       "3      0020900475  20100101/ORLMIN                            201567   \n",
       "4      0020900476  20100101/SACLAL                               977   \n",
       "...           ...              ...                               ...   \n",
       "30600  0020900469  20091231/CHIDET                            201155   \n",
       "30601  0020900470  20091231/DALHOU                            201166   \n",
       "30602  0020900471  20091231/MIASAS                              1495   \n",
       "30603  0020900472  20091231/UTAOKC                            201142   \n",
       "30604  0020900473  20091231/PHILAC                              2549   \n",
       "\n",
       "      gameleaders_homeleaders_name gameleaders_homeleaders_jerseynum  \\\n",
       "0                Marreese Speights                                16   \n",
       "1                      Dwyane Wade                                 3   \n",
       "2                       Al Horford                                15   \n",
       "3                       Kevin Love                                42   \n",
       "4                      Kobe Bryant                                24   \n",
       "...                            ...                               ...   \n",
       "30600               Rodney Stuckey                                 3   \n",
       "30601                 Aaron Brooks                                 0   \n",
       "30602                   Tim Duncan                                21   \n",
       "30603                 Kevin Durant                                35   \n",
       "30604                  Chris Kaman                                35   \n",
       "\n",
       "      gameleaders_homeleaders_position gameleaders_homeleaders_teamtricode  \\\n",
       "0                                  F-C                                 PHI   \n",
       "1                                    G                                 MIA   \n",
       "2                                    C                                 ATL   \n",
       "3                                  F-C                                 MIN   \n",
       "4                                    G                                 LAL   \n",
       "...                                ...                                 ...   \n",
       "30600                                G                                 DET   \n",
       "30601                                G                                 HOU   \n",
       "30602                                F                                 SAS   \n",
       "30603                                F                                 OKC   \n",
       "30604                                C                                 LAC   \n",
       "\n",
       "       gameleaders_homeleaders_points  gameleaders_homeleaders_rebounds  \\\n",
       "0                                  17                                11   \n",
       "1                                  14                                 5   \n",
       "2                                  22                                19   \n",
       "3                                  17                                10   \n",
       "4                                  39                                 5   \n",
       "...                               ...                               ...   \n",
       "30600                              22                                 3   \n",
       "30601                              30                                 4   \n",
       "30602                              23                                10   \n",
       "30603                              31                                 9   \n",
       "30604                              26                                10   \n",
       "\n",
       "       gameleaders_homeleaders_assists  ...  hometeam_timeoutsremaining  \\\n",
       "0                                    0  ...                           1   \n",
       "1                                    9  ...                           0   \n",
       "2                                    4  ...                           0   \n",
       "3                                    1  ...                           0   \n",
       "4                                    5  ...                           0   \n",
       "...                                ...  ...                         ...   \n",
       "30600                                6  ...                           1   \n",
       "30601                                4  ...                           1   \n",
       "30602                                3  ...                           1   \n",
       "30603                                5  ...                           0   \n",
       "30604                                4  ...                           1   \n",
       "\n",
       "      awayteam_teamid awayteam_teamname awayteam_teamcity  \\\n",
       "0          1610612741             Bulls           Chicago   \n",
       "1          1610612766           Bobcats         Charlotte   \n",
       "2          1610612752            Knicks          New York   \n",
       "3          1610612753             Magic           Orlando   \n",
       "4          1610612758             Kings        Sacramento   \n",
       "...               ...               ...               ...   \n",
       "30600      1610612741             Bulls           Chicago   \n",
       "30601      1610612742         Mavericks            Dallas   \n",
       "30602      1610612748              Heat             Miami   \n",
       "30603      1610612762              Jazz              Utah   \n",
       "30604      1610612755             76ers      Philadelphia   \n",
       "\n",
       "      awayteam_teamtricode  awayteam_wins  awayteam_losses  awayteam_score  \\\n",
       "0                      CHI             32               37              98   \n",
       "1                      CHA             35               34              71   \n",
       "2                      NYK             13               20             112   \n",
       "3                      ORL             24                8             106   \n",
       "4                      SAC             14               18             108   \n",
       "...                    ...            ...              ...             ...   \n",
       "30600                  CHI             13               17              98   \n",
       "30601                  DAL             22               10              94   \n",
       "30602                  MIA             16               14              78   \n",
       "30603                  UTA             18               14              86   \n",
       "30604                  PHI              9               23              88   \n",
       "\n",
       "       awayteam_seed awayteam_timeoutsremaining  \n",
       "0                0.0                          1  \n",
       "1                0.0                          0  \n",
       "2                0.0                          1  \n",
       "3                0.0                          1  \n",
       "4                0.0                          0  \n",
       "...              ...                        ...  \n",
       "30600            0.0                          1  \n",
       "30601            0.0                          0  \n",
       "30602            0.0                          1  \n",
       "30603            0.0                          0  \n",
       "30604            0.0                          1  \n",
       "\n",
       "[30605 rows x 36 columns]"
      ]
     },
     "execution_count": 71,
     "metadata": {},
     "output_type": "execute_result"
    }
   ],
   "source": [
    "raw_historical_games[core_columns]"
   ]
  },
  {
   "cell_type": "code",
   "execution_count": 69,
   "id": "cf7a14f9",
   "metadata": {
    "scrolled": false
   },
   "outputs": [
    {
     "data": {
      "text/plain": [
       "count    30598.000000\n",
       "mean         0.216550\n",
       "std          1.014377\n",
       "min          0.000000\n",
       "25%          0.000000\n",
       "50%          0.000000\n",
       "75%          0.000000\n",
       "max          8.000000\n",
       "Name: awayteam_seed, dtype: float64"
      ]
     },
     "execution_count": 69,
     "metadata": {},
     "output_type": "execute_result"
    }
   ],
   "source": [
    "raw_historical_games.awayteam_seed.describe()"
   ]
  },
  {
   "cell_type": "code",
   "execution_count": 94,
   "id": "4fcad8a4",
   "metadata": {},
   "outputs": [
    {
     "data": {
      "image/png": "[encoded data removed]",
      "text/plain": [
       "<Figure size 1080x720 with 1 Axes>"
      ]
     },
     "metadata": {
      "needs_background": "light"
     },
     "output_type": "display_data"
    }
   ],
   "source": [
    "plt.figure(figsize=(15,10))\n",
    "plt.boxplot(raw_historical_games[[\"awayteam_score\", \"hometeam_score\"]])\n",
    "plt.xticks((1,2), (\"awayteam_score\", \"hometeam_score\"))\n",
    "plt.axhline(y=100, color='b', linestyle='--')\n",
    "plt.title(\"Final score\")\n",
    "plt.show()"
   ]
  }
 ],
 "metadata": {
  "kernelspec": {
   "display_name": "Python 3 (ipykernel)",
   "language": "python",
   "name": "python3"
  },
  "language_info": {
   "codemirror_mode": {
    "name": "ipython",
    "version": 3
   },
   "file_extension": ".py",
   "mimetype": "text/x-python",
   "name": "python",
   "nbconvert_exporter": "python",
   "pygments_lexer": "ipython3",
   "version": "3.9.7"
  }
 },
 "nbformat": 4,
 "nbformat_minor": 5
}
